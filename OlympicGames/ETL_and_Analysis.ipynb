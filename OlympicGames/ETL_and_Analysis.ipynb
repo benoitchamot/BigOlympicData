{
 "cells": [
  {
   "cell_type": "code",
   "execution_count": 1,
   "metadata": {},
   "outputs": [],
   "source": [
    "# Import findspark and initialise. \n",
    "import findspark\n",
    "findspark.init()"
   ]
  },
  {
   "cell_type": "code",
   "execution_count": 2,
   "metadata": {},
   "outputs": [],
   "source": [
    "# Import packages\n",
    "from pyspark.sql import SparkSession\n",
    "from pyspark.sql import Row\n",
    "from pyspark.sql.types import StructType,StructField,StringType, DateType,IntegerType\n",
    "\n",
    "# Create a SparkSession\n",
    "spark = SparkSession.builder.appName(\"SparkSQL\").getOrCreate()"
   ]
  },
  {
   "cell_type": "code",
   "execution_count": 3,
   "metadata": {},
   "outputs": [
    {
     "name": "stdout",
     "output_type": "stream",
     "text": [
      "+---+--------------------+---+---+------+------+--------------+---+-----------+----+------+-----------+--------------------+--------------------+-----+\n",
      "| ID|                Name|Sex|Age|Height|Weight|          Team|NOC|      Games|Year|Season|       City|               Sport|               Event|Medal|\n",
      "+---+--------------------+---+---+------+------+--------------+---+-----------+----+------+-----------+--------------------+--------------------+-----+\n",
      "|  1|           A Dijiang|  M| 24|   180|    80|         China|CHN|1992 Summer|1992|Summer|  Barcelona|          Basketball|Basketball Men's ...|   NA|\n",
      "|  2|            A Lamusi|  M| 23|   170|    60|         China|CHN|2012 Summer|2012|Summer|     London|                Judo|Judo Men's Extra-...|   NA|\n",
      "|  3| Gunnar Nielsen Aaby|  M| 24|    NA|    NA|       Denmark|DEN|1920 Summer|1920|Summer|  Antwerpen|            Football|Football Men's Fo...|   NA|\n",
      "|  4|Edgar Lindenau Aabye|  M| 34|    NA|    NA|Denmark/Sweden|DEN|1900 Summer|1900|Summer|      Paris|          Tug-Of-War|Tug-Of-War Men's ...| Gold|\n",
      "|  5|Christine Jacoba ...|  F| 21|   185|    82|   Netherlands|NED|1988 Winter|1988|Winter|    Calgary|       Speed Skating|Speed Skating Wom...|   NA|\n",
      "|  5|Christine Jacoba ...|  F| 21|   185|    82|   Netherlands|NED|1988 Winter|1988|Winter|    Calgary|       Speed Skating|Speed Skating Wom...|   NA|\n",
      "|  5|Christine Jacoba ...|  F| 25|   185|    82|   Netherlands|NED|1992 Winter|1992|Winter|Albertville|       Speed Skating|Speed Skating Wom...|   NA|\n",
      "|  5|Christine Jacoba ...|  F| 25|   185|    82|   Netherlands|NED|1992 Winter|1992|Winter|Albertville|       Speed Skating|Speed Skating Wom...|   NA|\n",
      "|  5|Christine Jacoba ...|  F| 27|   185|    82|   Netherlands|NED|1994 Winter|1994|Winter|Lillehammer|       Speed Skating|Speed Skating Wom...|   NA|\n",
      "|  5|Christine Jacoba ...|  F| 27|   185|    82|   Netherlands|NED|1994 Winter|1994|Winter|Lillehammer|       Speed Skating|Speed Skating Wom...|   NA|\n",
      "|  6|     Per Knut Aaland|  M| 31|   188|    75| United States|USA|1992 Winter|1992|Winter|Albertville|Cross Country Skiing|Cross Country Ski...|   NA|\n",
      "|  6|     Per Knut Aaland|  M| 31|   188|    75| United States|USA|1992 Winter|1992|Winter|Albertville|Cross Country Skiing|Cross Country Ski...|   NA|\n",
      "|  6|     Per Knut Aaland|  M| 31|   188|    75| United States|USA|1992 Winter|1992|Winter|Albertville|Cross Country Skiing|Cross Country Ski...|   NA|\n",
      "|  6|     Per Knut Aaland|  M| 31|   188|    75| United States|USA|1992 Winter|1992|Winter|Albertville|Cross Country Skiing|Cross Country Ski...|   NA|\n",
      "|  6|     Per Knut Aaland|  M| 33|   188|    75| United States|USA|1994 Winter|1994|Winter|Lillehammer|Cross Country Skiing|Cross Country Ski...|   NA|\n",
      "|  6|     Per Knut Aaland|  M| 33|   188|    75| United States|USA|1994 Winter|1994|Winter|Lillehammer|Cross Country Skiing|Cross Country Ski...|   NA|\n",
      "|  6|     Per Knut Aaland|  M| 33|   188|    75| United States|USA|1994 Winter|1994|Winter|Lillehammer|Cross Country Skiing|Cross Country Ski...|   NA|\n",
      "|  6|     Per Knut Aaland|  M| 33|   188|    75| United States|USA|1994 Winter|1994|Winter|Lillehammer|Cross Country Skiing|Cross Country Ski...|   NA|\n",
      "|  7|        John Aalberg|  M| 31|   183|    72| United States|USA|1992 Winter|1992|Winter|Albertville|Cross Country Skiing|Cross Country Ski...|   NA|\n",
      "|  7|        John Aalberg|  M| 31|   183|    72| United States|USA|1992 Winter|1992|Winter|Albertville|Cross Country Skiing|Cross Country Ski...|   NA|\n",
      "+---+--------------------+---+---+------+------+--------------+---+-----------+----+------+-----------+--------------------+--------------------+-----+\n",
      "only showing top 20 rows\n",
      "\n"
     ]
    }
   ],
   "source": [
    "# Read in data from S3 Buckets\n",
    "from pyspark import SparkFiles\n",
    "url = \"https://2u-data-curriculum-team.s3.amazonaws.com/dataviz-classroom/v1.2/22-big-data/2/athlete_events.csv\"\n",
    "spark.sparkContext.addFile(url)\n",
    "df = spark.read.csv(SparkFiles.get(\"athlete_events.csv\"), header=True, inferSchema=True, quote=\"\\\"\", escape=\"\\\"\")\n",
    "\n",
    "# Show DataFrame\n",
    "df.show()"
   ]
  },
  {
   "cell_type": "code",
   "execution_count": 18,
   "metadata": {},
   "outputs": [
    {
     "name": "stdout",
     "output_type": "stream",
     "text": [
      "Number of rows: 271,116.\n"
     ]
    }
   ],
   "source": [
    "print(f\"Number of rows: {format((df.count()), ',')}.\")"
   ]
  },
  {
   "cell_type": "code",
   "execution_count": 19,
   "metadata": {},
   "outputs": [],
   "source": [
    "#Create a temporary view.\n",
    "df.createOrReplaceTempView('games')"
   ]
  },
  {
   "cell_type": "code",
   "execution_count": 20,
   "metadata": {},
   "outputs": [
    {
     "name": "stdout",
     "output_type": "stream",
     "text": [
      "+-----------+\n",
      "|2016_sports|\n",
      "+-----------+\n",
      "|         32|\n",
      "+-----------+\n",
      "\n"
     ]
    }
   ],
   "source": [
    "# Get the number of distinct sports played in 2012\n",
    "spark.sql(\"\"\"\n",
    "          SELECT COUNT(DISTINCT sport) AS 2016_sports\n",
    "          FROM games\n",
    "          WHERE Year = 2012\n",
    "          \"\"\").show()"
   ]
  },
  {
   "cell_type": "code",
   "execution_count": 21,
   "metadata": {},
   "outputs": [
    {
     "name": "stdout",
     "output_type": "stream",
     "text": [
      "+----------+\n",
      "|     sport|\n",
      "+----------+\n",
      "|Gymnastics|\n",
      "|    Tennis|\n",
      "|    Boxing|\n",
      "+----------+\n",
      "only showing top 3 rows\n",
      "\n"
     ]
    }
   ],
   "source": [
    "# Sports in 2016\n",
    "spark.sql(\"\"\"\n",
    "            SELECT DISTINCT sport\n",
    "            FROM games\n",
    "            WHERE Year = 2016\n",
    "          \"\"\").show(3)"
   ]
  },
  {
   "cell_type": "code",
   "execution_count": 22,
   "metadata": {},
   "outputs": [
    {
     "name": "stdout",
     "output_type": "stream",
     "text": [
      "+----------+\n",
      "|     sport|\n",
      "+----------+\n",
      "|Gymnastics|\n",
      "|    Tennis|\n",
      "|    Boxing|\n",
      "+----------+\n",
      "only showing top 3 rows\n",
      "\n"
     ]
    }
   ],
   "source": [
    "# Sports in 2012\n",
    "spark.sql(\"\"\"\n",
    "            SELECT DISTINCT sport\n",
    "            FROM games\n",
    "            WHERE Year = 2012\n",
    "          \"\"\").show(3)"
   ]
  },
  {
   "cell_type": "code",
   "execution_count": 23,
   "metadata": {},
   "outputs": [
    {
     "name": "stdout",
     "output_type": "stream",
     "text": [
      "+------------+\n",
      "|       sport|\n",
      "+------------+\n",
      "|        Golf|\n",
      "|Rugby Sevens|\n",
      "+------------+\n",
      "\n"
     ]
    }
   ],
   "source": [
    "# Write a subquery to get the distinct sports played in 2016 but not in 2012.\n",
    "spark.sql(\"\"\"\n",
    "            SELECT DISTINCT sport\n",
    "            FROM games\n",
    "            WHERE Year = 2016 AND sport NOT IN\n",
    "            (SELECT DISTINCT sport\n",
    "            FROM games\n",
    "            WHERE Year = 2012)\n",
    "          \"\"\").show()"
   ]
  },
  {
   "cell_type": "code",
   "execution_count": 24,
   "metadata": {},
   "outputs": [
    {
     "name": "stdout",
     "output_type": "stream",
     "text": [
      "+----+\n",
      "|year|\n",
      "+----+\n",
      "|1896|\n",
      "+----+\n",
      "\n"
     ]
    }
   ],
   "source": [
    "# Get the year of the earliest Olympics in our data\n",
    "spark.sql(\"\"\"\n",
    "            SELECT year\n",
    "            FROM games\n",
    "            ORDER BY year ASC\n",
    "            LIMIT 1\n",
    "        \"\"\").show()"
   ]
  },
  {
   "cell_type": "code",
   "execution_count": 26,
   "metadata": {},
   "outputs": [
    {
     "name": "stdout",
     "output_type": "stream",
     "text": [
      "+---------+\n",
      "|min(year)|\n",
      "+---------+\n",
      "|     1896|\n",
      "+---------+\n",
      "\n"
     ]
    }
   ],
   "source": [
    "# Get the year of the earliest Olympics in our data\n",
    "# Alternative using min\n",
    "spark.sql(\"\"\"\n",
    "            SELECT MIN(year)\n",
    "            FROM games\n",
    "        \"\"\").show()\n"
   ]
  },
  {
   "cell_type": "code",
   "execution_count": 25,
   "metadata": {},
   "outputs": [
    {
     "name": "stdout",
     "output_type": "stream",
     "text": [
      "+-------------+\n",
      "|        sport|\n",
      "+-------------+\n",
      "|    Athletics|\n",
      "|      Cycling|\n",
      "|      Fencing|\n",
      "|   Gymnastics|\n",
      "|     Shooting|\n",
      "|     Swimming|\n",
      "|       Tennis|\n",
      "|Weightlifting|\n",
      "|    Wrestling|\n",
      "+-------------+\n",
      "\n"
     ]
    }
   ],
   "source": [
    "# Get the sports that were played in the earliest Olympic games in our data.\n",
    "# Using subqueries\n",
    "spark.sql(\"\"\"\n",
    "            SELECT DISTINCT sport\n",
    "            FROM games\n",
    "            WHERE Year = (SELECT MIN(Year) FROM games)\n",
    "            ORDER BY sport ASC\n",
    "          \"\"\").show()"
   ]
  },
  {
   "cell_type": "code",
   "execution_count": 28,
   "metadata": {},
   "outputs": [
    {
     "name": "stdout",
     "output_type": "stream",
     "text": [
      "+--------------------+-----+----------+\n",
      "|                Name|Medal|MedalCount|\n",
      "+--------------------+-----+----------+\n",
      "|Michael Fred Phel...| Gold|        23|\n",
      "|Raymond Clarence ...| Gold|        10|\n",
      "|Frederick Carlton...| Gold|         9|\n",
      "|Larysa Semenivna ...| Gold|         9|\n",
      "|Paavo Johannes Nurmi| Gold|         9|\n",
      "+--------------------+-----+----------+\n",
      "\n"
     ]
    }
   ],
   "source": [
    "# Who are the top 5 Gold medal winners in the Olympics\n",
    "top5_gold = spark.sql(\"\"\"\n",
    "          SELECT Name, Medal, COUNT(Medal) AS MedalCount\n",
    "          FROM games\n",
    "          WHERE Medal = 'Gold'\n",
    "          GROUP BY Name, Medal\n",
    "          SORT BY COUNT(Medal) DESC\n",
    "          LIMIT 5\n",
    "          \"\"\")\n",
    "\n",
    "top5_gold.show()"
   ]
  },
  {
   "cell_type": "code",
   "execution_count": 29,
   "metadata": {},
   "outputs": [
    {
     "name": "stdout",
     "output_type": "stream",
     "text": [
      "+--------------------+------+----------+\n",
      "|                Name| Medal|MedalCount|\n",
      "+--------------------+------+----------+\n",
      "|Shirley Frances B...|Silver|         6|\n",
      "|Aleksandr Nikolay...|Silver|         6|\n",
      "|Aleksandr Vladimi...|Silver|         6|\n",
      "|Mikhail Yakovlevi...|Silver|         6|\n",
      "|           Yang Yang|Silver|         6|\n",
      "+--------------------+------+----------+\n",
      "\n"
     ]
    }
   ],
   "source": [
    "# Who are the top 5 Silver medal winners\n",
    "spark.sql(\"\"\"\n",
    "          SELECT Name, Medal, COUNT(Medal) AS MedalCount\n",
    "          FROM games\n",
    "          WHERE Medal = 'Silver'\n",
    "          GROUP BY Name, Medal\n",
    "          SORT BY COUNT(Medal) DESC\n",
    "          LIMIT 5\n",
    "          \"\"\").show()"
   ]
  },
  {
   "cell_type": "code",
   "execution_count": 30,
   "metadata": {},
   "outputs": [
    {
     "name": "stdout",
     "output_type": "stream",
     "text": [
      "+--------------------+------+----------+\n",
      "|                Name| Medal|MedalCount|\n",
      "+--------------------+------+----------+\n",
      "|Harri Tapani Kirv...|Bronze|         6|\n",
      "|Merlene Joyce Ott...|Bronze|         6|\n",
      "|Aleksey Yuryevich...|Bronze|         6|\n",
      "|Heikki Ilmari Sav...|Bronze|         6|\n",
      "|Franziska van Alm...|Bronze|         6|\n",
      "+--------------------+------+----------+\n",
      "\n"
     ]
    }
   ],
   "source": [
    "# Who are the top 5 Bronze medal winners\n",
    "spark.sql(\"\"\"\n",
    "          SELECT Name, Medal, COUNT(Medal) AS MedalCount\n",
    "          FROM games\n",
    "          WHERE Medal = 'Bronze'\n",
    "          GROUP BY Name, Medal\n",
    "          SORT BY COUNT(Medal) DESC\n",
    "          LIMIT 5\n",
    "          \"\"\").show()\n"
   ]
  },
  {
   "cell_type": "code",
   "execution_count": 31,
   "metadata": {},
   "outputs": [],
   "source": [
    "import pandas as pd\n",
    "top5_gold.toPandas().to_csv('top5Gold.csv')"
   ]
  }
 ],
 "metadata": {
  "kernelspec": {
   "display_name": "dev",
   "language": "python",
   "name": "python3"
  },
  "language_info": {
   "codemirror_mode": {
    "name": "ipython",
    "version": 3
   },
   "file_extension": ".py",
   "mimetype": "text/x-python",
   "name": "python",
   "nbconvert_exporter": "python",
   "pygments_lexer": "ipython3",
   "version": "3.10.11"
  }
 },
 "nbformat": 4,
 "nbformat_minor": 2
}
